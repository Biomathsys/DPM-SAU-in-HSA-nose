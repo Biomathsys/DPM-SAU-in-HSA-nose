{
 "cells": [
  {
   "cell_type": "code",
   "execution_count": 83,
   "metadata": {
    "inputHidden": false,
    "outputHidden": false
   },
   "outputs": [],
   "source": [
    "import pandas as pd\n",
    "import cobra\n",
    "import numpy as np\n",
    "import matplotlib.pyplot as plt\n",
    "import json \n",
    "from copy import deepcopy\n",
    "\n",
    "from micom import Community\n",
    "\n",
    "def save_dict(data, name):\n",
    "    with open(name, 'w' ) as file:\n",
    "        json.dump( data, file )"
   ]
  },
  {
   "cell_type": "code",
   "execution_count": 84,
   "metadata": {},
   "outputs": [
    {
     "name": "stdout",
     "output_type": "stream",
     "text": [
      "Growth:  0.2823653925322476\n",
      "Growth:  2.558694612613393\n"
     ]
    }
   ],
   "source": [
    "model_DP = cobra.io.read_sbml_model(\"models/consistent_DP_SNM.xml\")\n",
    "model_SA = cobra.io.read_sbml_model(\"models/consistent_iYS854_SNM.xml\")\n",
    "print(\"Growth: \", model_DP.slim_optimize())\n",
    "print(\"Growth: \", model_SA.slim_optimize())"
   ]
  },
  {
   "cell_type": "code",
   "execution_count": 85,
   "metadata": {},
   "outputs": [
    {
     "data": {
      "text/html": [
       "<div>\n",
       "<style scoped>\n",
       "    .dataframe tbody tr th:only-of-type {\n",
       "        vertical-align: middle;\n",
       "    }\n",
       "\n",
       "    .dataframe tbody tr th {\n",
       "        vertical-align: top;\n",
       "    }\n",
       "\n",
       "    .dataframe thead th {\n",
       "        text-align: right;\n",
       "    }\n",
       "</style>\n",
       "<table border=\"1\" class=\"dataframe\">\n",
       "  <thead>\n",
       "    <tr style=\"text-align: right;\">\n",
       "      <th></th>\n",
       "      <th>Compound</th>\n",
       "      <th>BiGG</th>\n",
       "      <th>ModelSeed</th>\n",
       "      <th>KEGG</th>\n",
       "    </tr>\n",
       "  </thead>\n",
       "  <tbody>\n",
       "    <tr>\n",
       "      <th>0</th>\n",
       "      <td>Alanine</td>\n",
       "      <td>ala__L</td>\n",
       "      <td>cpd00035</td>\n",
       "      <td>C00041</td>\n",
       "    </tr>\n",
       "    <tr>\n",
       "      <th>1</th>\n",
       "      <td>Arginine</td>\n",
       "      <td>arg__L</td>\n",
       "      <td>cpd00051</td>\n",
       "      <td>C00062</td>\n",
       "    </tr>\n",
       "    <tr>\n",
       "      <th>2</th>\n",
       "      <td>Cysteine</td>\n",
       "      <td>cys__L</td>\n",
       "      <td>cpd00084</td>\n",
       "      <td>C00097</td>\n",
       "    </tr>\n",
       "    <tr>\n",
       "      <th>3</th>\n",
       "      <td>Glutamic acid</td>\n",
       "      <td>glu__L</td>\n",
       "      <td>cpd00023</td>\n",
       "      <td>C00025</td>\n",
       "    </tr>\n",
       "    <tr>\n",
       "      <th>4</th>\n",
       "      <td>Glycine</td>\n",
       "      <td>gly</td>\n",
       "      <td>cpd00033</td>\n",
       "      <td>C00037</td>\n",
       "    </tr>\n",
       "  </tbody>\n",
       "</table>\n",
       "</div>"
      ],
      "text/plain": [
       "        Compound    BiGG ModelSeed    KEGG\n",
       "0        Alanine  ala__L  cpd00035  C00041\n",
       "1       Arginine  arg__L  cpd00051  C00062\n",
       "2       Cysteine  cys__L  cpd00084  C00097\n",
       "3  Glutamic acid  glu__L  cpd00023  C00025\n",
       "4        Glycine     gly  cpd00033  C00037"
      ]
     },
     "execution_count": 85,
     "metadata": {},
     "output_type": "execute_result"
    }
   ],
   "source": [
    "snm3 = pd.read_csv(\"SNM3.csv\", sep =\";\")\n",
    "snm3.head()"
   ]
  },
  {
   "cell_type": "code",
   "execution_count": 86,
   "metadata": {},
   "outputs": [],
   "source": [
    "import json\n",
    "compm_SA = json.loads(open(\"compm_SA.json\").read())\n",
    "compm_DP = json.loads(open(\"compm_DP.json\").read())"
   ]
  },
  {
   "cell_type": "code",
   "execution_count": 87,
   "metadata": {},
   "outputs": [],
   "source": [
    "compm = dict(list(compm_SA.items()) + list(compm_DP.items()))"
   ]
  },
  {
   "cell_type": "code",
   "execution_count": 88,
   "metadata": {},
   "outputs": [],
   "source": [
    "community_compm = dict()\n",
    "for key, val in compm.items():\n",
    "    key = key[:-1]+ \"m\"\n",
    "    community_compm[key] = val"
   ]
  },
  {
   "cell_type": "code",
   "execution_count": 89,
   "metadata": {},
   "outputs": [
    {
     "data": {
      "application/vnd.jupyter.widget-view+json": {
       "model_id": "96ea1e5cab194103b89c67ed49e01509",
       "version_major": 2,
       "version_minor": 0
      },
      "text/plain": [
       "HBox(children=(HTML(value=''), FloatProgress(value=0.0, max=2.0), HTML(value='')))"
      ]
     },
     "metadata": {},
     "output_type": "display_data"
    },
    {
     "name": "stdout",
     "output_type": "stream",
     "text": [
      "\n"
     ]
    }
   ],
   "source": [
    "row1 = [\"SA\", \"Staphylococcus\", \"Staphylococcus aureus\", len(model_SA.reactions),len(model_SA.metabolites), \"models/consistent_iYS854_SNM.xml\"]\n",
    "row2 = [\"DP\", \"Dolosigranulum\", \"Dolosigranulum pigrum\", len(model_DP.reactions),len(model_DP.metabolites), \"models/consistent_DP_SNM.xml\" ]\n",
    "taxonomy = pd.DataFrame(dict(zip(['id', 'genus', 'species', 'reactions', 'metabolites', 'file'],list(zip(row1,row2)))))\n",
    "com = Community(taxonomy)"
   ]
  },
  {
   "cell_type": "code",
   "execution_count": 90,
   "metadata": {},
   "outputs": [],
   "source": [
    "reactions_DP = [rec for rec in com.reactions if \"__DP\" in rec.id]\n",
    "for rec in reactions_DP:\n",
    "    id = rec.id[:-4]\n",
    "    org_rec = model_DP.reactions.get_by_id(id)\n",
    "    rec.lower_bound = org_rec.lower_bound \n",
    "    rec.upper_bound = org_rec.upper_bound"
   ]
  },
  {
   "cell_type": "code",
   "execution_count": 91,
   "metadata": {},
   "outputs": [],
   "source": [
    "reactions_SA = [rec for rec in com.reactions if \"__SA\" in rec.id]\n",
    "for rec in reactions_SA:\n",
    "    id = rec.id[:-4]\n",
    "    org_rec = model_SA.reactions.get_by_id(id)\n",
    "    rec.lower_bound = org_rec.lower_bound \n",
    "    rec.upper_bound = org_rec.upper_bound"
   ]
  },
  {
   "cell_type": "code",
   "execution_count": 92,
   "metadata": {},
   "outputs": [],
   "source": [
    "#com.medium=community_compm"
   ]
  },
  {
   "cell_type": "code",
   "execution_count": 93,
   "metadata": {},
   "outputs": [],
   "source": [
    "# Turn on shuttels\n",
    "#sh_DP = [ex for ex in reactions_DP if \"EX_\" in ex.id]\n",
    "#sh_SA = [ex for ex in reactions_SA if \"EX_\" in ex.id]\n",
    "#for sh in sh_DP: \n",
    " #   sh.lower_bound=-10\n",
    "#for sh in sh_SA:\n",
    " #   sh.lower_bound=-10"
   ]
  },
  {
   "cell_type": "code",
   "execution_count": 94,
   "metadata": {},
   "outputs": [],
   "source": [
    "#sol = com.optimize()\n",
    "#MBR_micom_shuttel = sol.growth_rate\n",
    "#sol"
   ]
  },
  {
   "cell_type": "code",
   "execution_count": 118,
   "metadata": {},
   "outputs": [],
   "source": [
    "# Custum optimization\n",
    "\n",
    "def optimize_coopm_community(model, MBR, biomass_reactions):\n",
    "    #model = model.copy()\n",
    "    minMBR = 0.1*MBR\n",
    "    medium = list(model.medium.keys())\n",
    "    biomass = []\n",
    "    for id in biomass_reactions:\n",
    "        biomass.append(model.reactions.get_by_id(id).flux_expression)\n",
    "    # Binary variables: Theta_i \n",
    "    thetas = []\n",
    "    for i in range(len(medium)):\n",
    "        thetas.append(model.problem.Variable('theta_'+str(i), type=\"binary\"))\n",
    "\n",
    "    # Constraints for exchanges, which are turned of for theta_i = 1\n",
    "    theta_constraints = []\n",
    "    for i,id in enumerate(medium):\n",
    "        reaction = model.reactions.get_by_id(id)\n",
    "        min_bound = model.reactions.get_by_id(id).lower_bound\n",
    "        cons = model.problem.Constraint(\n",
    "            (reaction.flux_expression + min_bound*thetas[i]),\n",
    "            lb=min_bound,\n",
    "            ub=1000)\n",
    "        theta_constraints.append(cons)\n",
    "\n",
    "    # Constraints for growth rates, which must be at least 10% MBR\n",
    "    constraint_growth = []\n",
    "    for growth in biomass:\n",
    "        constraint_growth += [model.problem.Constraint(\n",
    "        growth,\n",
    "        lb=minMBR,\n",
    "        ub=1000)]\n",
    "\n",
    "    # Adding new variables and constraints.\n",
    "    model.add_cons_vars(thetas)\n",
    "    model.add_cons_vars(theta_constraints)\n",
    "    model.add_cons_vars(constraint_growth)\n",
    "    \n",
    "\n",
    "    # Objevtive is maximising turned of exchanges, that is sum of theta_is\n",
    "    objective = model.problem.Objective(sum(thetas), direction=\"max\")\n",
    "    model.objective = objective\n",
    "    model.solver.update()\n",
    "\n",
    "    return model, thetas"
   ]
  },
  {
   "cell_type": "code",
   "execution_count": 119,
   "metadata": {},
   "outputs": [],
   "source": [
    "#com.medium = community_compm\n",
    "model, thetas = optimize_coopm_community(deepcopy(com), 2.55, [\"Growth__DP\", \"BIOMASS_iYS_wild_type__SA\"])"
   ]
  },
  {
   "cell_type": "code",
   "execution_count": 120,
   "metadata": {},
   "outputs": [
    {
     "data": {
      "text/html": [
       "<strong>community growth:</strong> 0.255<br><strong>status:</strong> optimal<br><strong>taxa:</strong><div>\n",
       "<style scoped>\n",
       "    .dataframe tbody tr th:only-of-type {\n",
       "        vertical-align: middle;\n",
       "    }\n",
       "\n",
       "    .dataframe tbody tr th {\n",
       "        vertical-align: top;\n",
       "    }\n",
       "\n",
       "    .dataframe thead th {\n",
       "        text-align: right;\n",
       "    }\n",
       "</style>\n",
       "<table border=\"1\" class=\"dataframe\">\n",
       "  <thead>\n",
       "    <tr style=\"text-align: right;\">\n",
       "      <th></th>\n",
       "      <th>abundance</th>\n",
       "      <th>growth_rate</th>\n",
       "      <th>reactions</th>\n",
       "      <th>metabolites</th>\n",
       "    </tr>\n",
       "    <tr>\n",
       "      <th>compartments</th>\n",
       "      <th></th>\n",
       "      <th></th>\n",
       "      <th></th>\n",
       "      <th></th>\n",
       "    </tr>\n",
       "  </thead>\n",
       "  <tbody>\n",
       "    <tr>\n",
       "      <th>DP</th>\n",
       "      <td>0.5</td>\n",
       "      <td>0.255</td>\n",
       "      <td>1152</td>\n",
       "      <td>827</td>\n",
       "    </tr>\n",
       "    <tr>\n",
       "      <th>SA</th>\n",
       "      <td>0.5</td>\n",
       "      <td>0.255</td>\n",
       "      <td>928</td>\n",
       "      <td>729</td>\n",
       "    </tr>\n",
       "    <tr>\n",
       "      <th>medium</th>\n",
       "      <td>NaN</td>\n",
       "      <td>NaN</td>\n",
       "      <td>111</td>\n",
       "      <td>111</td>\n",
       "    </tr>\n",
       "  </tbody>\n",
       "</table>\n",
       "</div>"
      ],
      "text/plain": [
       "<CommunitySolution 0.255 at 0x7fd9ee825490>"
      ]
     },
     "execution_count": 120,
     "metadata": {},
     "output_type": "execute_result"
    }
   ],
   "source": [
    "model.optimize()"
   ]
  },
  {
   "cell_type": "code",
   "execution_count": 121,
   "metadata": {},
   "outputs": [
    {
     "name": "stdout",
     "output_type": "stream",
     "text": [
      "EX_h2o_m Theta:  1.0\n",
      "EX_arg__L_m Theta:  1.0\n",
      "EX_his__L_m Theta:  1.0\n",
      "EX_ile__L_m Theta:  1.0\n",
      "EX_k_m Theta:  0.0\n",
      "EX_leu__L_m Theta:  1.0\n",
      "EX_lys__L_m Theta:  1.0\n",
      "EX_cl_m Theta:  0.0\n",
      "EX_co2_m Theta:  1.0\n",
      "EX_cys__L_m Theta:  0.0\n",
      "EX_met__L_m Theta:  1.0\n",
      "EX_mg2_m Theta:  0.0\n",
      "EX_mn2_m Theta:  0.0\n",
      "EX_mobd_m Theta:  1.0\n",
      "EX_na1_m Theta:  0.0\n",
      "EX_fe2_m Theta:  0.0\n",
      "EX_nac_m Theta:  0.0\n",
      "EX_o2_m Theta:  0.0\n",
      "EX_orn_m Theta:  1.0\n",
      "EX_phe__L_m Theta:  1.0\n",
      "EX_pi_m Theta:  1.0\n",
      "EX_glc__D_m Theta:  0.0\n",
      "EX_pyr_m Theta:  1.0\n",
      "EX_glu__L_m Theta:  1.0\n",
      "EX_ribflv_m Theta:  1.0\n",
      "EX_ser__L_m Theta:  1.0\n",
      "EX_so4_m Theta:  0.0\n",
      "EX_trp__L_m Theta:  1.0\n",
      "EX_thm_m Theta:  0.9999915600426832\n",
      "EX_urea_m Theta:  1.0\n",
      "EX_val__L_m Theta:  1.0\n",
      "EX_zn2_m Theta:  0.0\n",
      "EX_4abz_m Theta:  0.9999917396280494\n",
      "EX_ala__L_m Theta:  1.0\n",
      "EX_gly_m Theta:  1.0\n",
      "EX_thr__L_m Theta:  0.0\n",
      "EX_pro__L_m Theta:  0.0\n",
      "EX_ca2_m Theta:  0.0\n",
      "EX_cobalt2_m Theta:  0.0\n",
      "EX_succ_m Theta:  1.0\n",
      "EX_cu2_m Theta:  0.0\n",
      "EX_fum_m Theta:  1.0\n",
      "EX_ni2_m Theta:  0.0\n",
      "EX_26dap__M_m Theta:  0.0\n"
     ]
    }
   ],
   "source": [
    "medium = list(model.medium.keys())\n",
    "for i,theta in enumerate(thetas):\n",
    "    print(medium[i], \"Theta: \", theta.primal)"
   ]
  },
  {
   "cell_type": "code",
   "execution_count": 122,
   "metadata": {},
   "outputs": [],
   "source": [
    "# Creating COOPM medium\n",
    "sol = model.optimize()\n",
    "COOPM_COM = dict()\n",
    "for rec in model.exchanges:\n",
    "    if rec.flux < 0:\n",
    "        COOPM_COM[rec.id] = abs(rec.flux)"
   ]
  },
  {
   "cell_type": "code",
   "execution_count": 107,
   "metadata": {},
   "outputs": [
    {
     "data": {
      "text/plain": [
       "{'EX_k_m': 0.03046924864233228,\n",
       " 'EX_cl_m': 0.008123693767523203,\n",
       " 'EX_cys__L_m': 5.041992584664483,\n",
       " 'EX_mg2_m': 0.011981078730199542,\n",
       " 'EX_mn2_m': 0.00491888650106331,\n",
       " 'EX_mobd_m': 8.925e-07,\n",
       " 'EX_na1_m': 0.26521530208490557,\n",
       " 'EX_fe2_m': 0.011394582595129366,\n",
       " 'EX_nac_m': 0.0015292014169234823,\n",
       " 'EX_o2_m': 9.668257330644145,\n",
       " 'EX_glc__D_m': 10.0,\n",
       " 'EX_so4_m': 0.003291188992063504,\n",
       " 'EX_thm_m': 8.439957316847587e-05,\n",
       " 'EX_zn2_m': 0.004102295491293246,\n",
       " 'EX_4abz_m': 8.260371950542626e-05,\n",
       " 'EX_thr__L_m': 1.000471849561039,\n",
       " 'EX_pro__L_m': 0.027294417362141003,\n",
       " 'EX_ca2_m': 0.006627700983082984,\n",
       " 'EX_cobalt2_m': 0.004507221735795785,\n",
       " 'EX_cu2_m': 0.004180042803638314,\n",
       " 'EX_ni2_m': 0.00452563661331598,\n",
       " 'EX_26dap__M_m': 0.012347342228016093}"
      ]
     },
     "execution_count": 107,
     "metadata": {},
     "output_type": "execute_result"
    }
   ],
   "source": [
    "COOPM_COM"
   ]
  },
  {
   "cell_type": "code",
   "execution_count": 108,
   "metadata": {},
   "outputs": [],
   "source": [
    "with com as model:\n",
    "    model.medium = COOPM_COM \n",
    "    model.optimize()"
   ]
  },
  {
   "cell_type": "code",
   "execution_count": null,
   "metadata": {},
   "outputs": [],
   "source": []
  },
  {
   "cell_type": "code",
   "execution_count": null,
   "metadata": {},
   "outputs": [],
   "source": []
  },
  {
   "cell_type": "code",
   "execution_count": 46,
   "metadata": {},
   "outputs": [],
   "source": [
    "# Creating COOPM medium\n",
    "COOPM_COM = dict()\n",
    "for i,rec in enumerate(model.medium.keys()):\n",
    "    if thetas[i].primal < 1:\n",
    "        rec = model.reactions.get_by_id(rec)\n",
    "        COOPM_COM[rec.id] = abs(rec.flux)"
   ]
  },
  {
   "cell_type": "code",
   "execution_count": 47,
   "metadata": {},
   "outputs": [
    {
     "data": {
      "text/plain": [
       "{'EX_k_m': 0.030643918573729806,\n",
       " 'EX_cl_m': 0.008316323372317028,\n",
       " 'EX_cys__L_m': 5.042481429669955,\n",
       " 'EX_mg2_m': 0.012262061959113573,\n",
       " 'EX_mn2_m': 0.0050431955637814906,\n",
       " 'EX_na1_m': 0.2655123601841713,\n",
       " 'EX_fe2_m': 0.011639163036664167,\n",
       " 'EX_nac_m': 0.0015682405958260212,\n",
       " 'EX_o2_m': 5.468903440353209,\n",
       " 'EX_glc__D_m': 10.0,\n",
       " 'EX_so4_m': 0.0033622811484152523,\n",
       " 'EX_thm_m': 8.510749519527737e-05,\n",
       " 'EX_zn2_m': 0.0042067046303835166,\n",
       " 'EX_4abz_m': 8.47274855857808e-05,\n",
       " 'EX_thr__L_m': 0.06937020546125328,\n",
       " 'EX_pro__L_m': 0.027996164912055088,\n",
       " 'EX_ca2_m': 0.006798101137251243,\n",
       " 'EX_cobalt2_m': 0.004623103740824453,\n",
       " 'EX_cu2_m': 0.004287512941471624,\n",
       " 'EX_ni2_m': 0.004641992070296756,\n",
       " 'EX_26dap__M_m': 0.012664796051686258}"
      ]
     },
     "execution_count": 47,
     "metadata": {},
     "output_type": "execute_result"
    }
   ],
   "source": [
    "COOPM_COM"
   ]
  },
  {
   "cell_type": "code",
   "execution_count": 24,
   "metadata": {},
   "outputs": [
    {
     "data": {
      "text/html": [
       "<strong>community growth:</strong> 0.258<br><strong>status:</strong> optimal<br><strong>taxa:</strong><div>\n",
       "<style scoped>\n",
       "    .dataframe tbody tr th:only-of-type {\n",
       "        vertical-align: middle;\n",
       "    }\n",
       "\n",
       "    .dataframe tbody tr th {\n",
       "        vertical-align: top;\n",
       "    }\n",
       "\n",
       "    .dataframe thead th {\n",
       "        text-align: right;\n",
       "    }\n",
       "</style>\n",
       "<table border=\"1\" class=\"dataframe\">\n",
       "  <thead>\n",
       "    <tr style=\"text-align: right;\">\n",
       "      <th></th>\n",
       "      <th>abundance</th>\n",
       "      <th>growth_rate</th>\n",
       "      <th>reactions</th>\n",
       "      <th>metabolites</th>\n",
       "    </tr>\n",
       "    <tr>\n",
       "      <th>compartments</th>\n",
       "      <th></th>\n",
       "      <th></th>\n",
       "      <th></th>\n",
       "      <th></th>\n",
       "    </tr>\n",
       "  </thead>\n",
       "  <tbody>\n",
       "    <tr>\n",
       "      <th>DP</th>\n",
       "      <td>0.5</td>\n",
       "      <td>0.261556</td>\n",
       "      <td>1152</td>\n",
       "      <td>827</td>\n",
       "    </tr>\n",
       "    <tr>\n",
       "      <th>SA</th>\n",
       "      <td>0.5</td>\n",
       "      <td>0.255000</td>\n",
       "      <td>928</td>\n",
       "      <td>729</td>\n",
       "    </tr>\n",
       "    <tr>\n",
       "      <th>medium</th>\n",
       "      <td>NaN</td>\n",
       "      <td>NaN</td>\n",
       "      <td>111</td>\n",
       "      <td>111</td>\n",
       "    </tr>\n",
       "  </tbody>\n",
       "</table>\n",
       "</div>"
      ],
      "text/plain": [
       "<CommunitySolution 0.258 at 0x7fda207001f0>"
      ]
     },
     "execution_count": 24,
     "metadata": {},
     "output_type": "execute_result"
    }
   ],
   "source": [
    "model.optimize()"
   ]
  },
  {
   "cell_type": "code",
   "execution_count": null,
   "metadata": {},
   "outputs": [],
   "source": []
  }
 ],
 "metadata": {
  "kernel_info": {
   "name": "python3"
  },
  "kernelspec": {
   "display_name": "Python 3",
   "language": "python",
   "name": "python3"
  },
  "language_info": {
   "codemirror_mode": {
    "name": "ipython",
    "version": 3
   },
   "file_extension": ".py",
   "mimetype": "text/x-python",
   "name": "python",
   "nbconvert_exporter": "python",
   "pygments_lexer": "ipython3",
   "version": "3.8.5"
  }
 },
 "nbformat": 4,
 "nbformat_minor": 4
}
