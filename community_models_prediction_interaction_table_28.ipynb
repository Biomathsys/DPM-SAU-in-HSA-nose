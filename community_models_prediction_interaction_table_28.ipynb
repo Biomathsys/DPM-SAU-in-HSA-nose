{
 "cells": [
  {
   "cell_type": "code",
   "execution_count": 37,
   "metadata": {},
   "outputs": [],
   "source": [
    "import pandas as pd\n",
    "import cobra\n",
    "import numpy as np\n",
    "import matplotlib.pyplot as plt\n",
    "\n",
    "from scipy.optimize import linprog\n",
    "import scipy\n",
    "import mip\n",
    "from copy import deepcopy\n",
    "\n",
    "import warnings\n",
    "warnings.filterwarnings('ignore')\n",
    "\n",
    "import json\n",
    "def save_dict(data, name):\n",
    "    with open(name, 'w' ) as file:\n",
    "        json.dump( data, file )"
   ]
  },
  {
   "cell_type": "markdown",
   "metadata": {},
   "source": [
    "# Community modeling\n",
    "\n",
    "In this notebook we will implement a method to create community models of two or more species specific metabolic models using cobrapy."
   ]
  },
  {
   "cell_type": "code",
   "execution_count": 38,
   "metadata": {},
   "outputs": [
    {
     "name": "stdout",
     "output_type": "stream",
     "text": [
      "Growth:  0.2823653925322476\n",
      "Growth:  2.558694612613393\n"
     ]
    }
   ],
   "source": [
    "model_DP = cobra.io.read_sbml_model(\"models/consistent_DP_SNM.xml\")\n",
    "model_SA = cobra.io.read_sbml_model(\"models/consistent_iYS854_SNM.xml\")\n",
    "print(\"Growth: \", model_DP.slim_optimize())\n",
    "print(\"Growth: \", model_SA.slim_optimize())"
   ]
  },
  {
   "cell_type": "code",
   "execution_count": 39,
   "metadata": {},
   "outputs": [],
   "source": [
    "for rec in model_SA.reactions:\n",
    "    rec.lower_bound = max(rec.lower_bound, -1000)\n",
    "    rec.upper_bound = min(rec.upper_bound, 1000)"
   ]
  },
  {
   "cell_type": "code",
   "execution_count": 40,
   "metadata": {},
   "outputs": [],
   "source": [
    "import json\n",
    "compm_SA = json.loads(open(\"compm_SA.json\").read())\n",
    "compm_DP = json.loads(open(\"compm_DP.json\").read())\n",
    "compm = compm_SA.copy()\n",
    "for key in compm_DP:\n",
    "    if not key in compm:\n",
    "        compm[key] = compm_DP[key]\n"
   ]
  },
  {
   "cell_type": "code",
   "execution_count": 41,
   "metadata": {},
   "outputs": [],
   "source": [
    "BIOMASS_DP = \"Growth\" \n",
    "BIOMASS_SA = \"BIOMASS_iYS_wild_type\"\n",
    "models = [model_DP.copy(), model_SA.copy()]"
   ]
  },
  {
   "cell_type": "markdown",
   "metadata": {},
   "source": [
    "## Community model growths on SNM3 medium\n"
   ]
  },
  {
   "cell_type": "code",
   "execution_count": 42,
   "metadata": {},
   "outputs": [],
   "source": [
    "from community_models import *"
   ]
  },
  {
   "cell_type": "code",
   "execution_count": 43,
   "metadata": {},
   "outputs": [],
   "source": [
    "model1 = Model(model_DP, BIOMASS_DP)\n",
    "model2 = Model(model_SA, BIOMASS_SA)\n",
    "shuttle_community_model = MIP_community_model(model1, model2)"
   ]
  },
  {
   "cell_type": "markdown",
   "metadata": {},
   "source": [
    "# COMPM - 1:1 "
   ]
  },
  {
   "cell_type": "code",
   "execution_count": 51,
   "metadata": {},
   "outputs": [
    {
     "data": {
      "text/plain": [
       "<mip.entities.Var at 0x7f97126e4ca0>"
      ]
     },
     "execution_count": 51,
     "metadata": {},
     "output_type": "execute_result"
    }
   ],
   "source": [
    "shuttle_community_model.reset_model()\n",
    "shuttle_community_model.set_medium(compm)\n",
    "shuttle_community_model.weights = [1,1]\n",
    "shuttle_community_model.optimize()\n",
    "shuttle_community_model.x1[shuttle_community_model.obj1]\n",
    "shuttle_community_model.x2[shuttle_community_model.obj2]"
   ]
  },
  {
   "cell_type": "code",
   "execution_count": 52,
   "metadata": {},
   "outputs": [
    {
     "name": "stdout",
     "output_type": "stream",
     "text": [
      "MBR Weights 1:1:  2.5562164580248874\n",
      "SA growth:  2.5562164580248874\n",
      "DP growth:  0.0\n"
     ]
    }
   ],
   "source": [
    "print(\"MBR Weights 1:1: \", shuttle_community_model.optimize())\n",
    "print(\"SA growth: \", shuttle_community_model.x2[shuttle_community_model.obj2].x)\n",
    "print(\"DP growth: \", shuttle_community_model.x1[shuttle_community_model.obj1].x)\n",
    "    "
   ]
  },
  {
   "cell_type": "markdown",
   "metadata": {},
   "source": [
    "# COOPM 1:1"
   ]
  },
  {
   "cell_type": "code",
   "execution_count": 53,
   "metadata": {},
   "outputs": [],
   "source": [
    "shuttle_community_model.reset_model()\n",
    "shuttle_community_model.weights = [1,1]\n",
    "shuttle_community_model.set_medium(compm)\n",
    "COOPM = shuttle_community_model.compute_coopm(enforce_survival=False)"
   ]
  },
  {
   "cell_type": "code",
   "execution_count": 54,
   "metadata": {},
   "outputs": [
    {
     "data": {
      "text/plain": [
       "<mip.entities.Var at 0x7f97128fdb80>"
      ]
     },
     "execution_count": 54,
     "metadata": {},
     "output_type": "execute_result"
    }
   ],
   "source": [
    "shuttle_community_model.reset_model()\n",
    "shuttle_community_model.set_medium(COOPM)\n",
    "shuttle_community_model.weights = [1,1]\n",
    "shuttle_community_model.optimize()\n",
    "shuttle_community_model.x1[shuttle_community_model.obj1]\n",
    "shuttle_community_model.x2[shuttle_community_model.obj2]"
   ]
  },
  {
   "cell_type": "code",
   "execution_count": 55,
   "metadata": {},
   "outputs": [
    {
     "name": "stdout",
     "output_type": "stream",
     "text": [
      "MBR Weights 1:1:  0.25562164580248553\n",
      "SA growth:  0.25562164580248553\n",
      "DP growth:  0.0\n"
     ]
    }
   ],
   "source": [
    "print(\"MBR Weights 1:1: \", shuttle_community_model.optimize())\n",
    "print(\"SA growth: \", shuttle_community_model.x2[shuttle_community_model.obj2].x)\n",
    "print(\"DP growth: \", shuttle_community_model.x1[shuttle_community_model.obj1].x)"
   ]
  },
  {
   "cell_type": "markdown",
   "metadata": {},
   "source": [
    "# COOPM 10:1"
   ]
  },
  {
   "cell_type": "code",
   "execution_count": 49,
   "metadata": {},
   "outputs": [
    {
     "data": {
      "text/plain": [
       "<mip.entities.Var at 0x7f970f2c95b0>"
      ]
     },
     "execution_count": 49,
     "metadata": {},
     "output_type": "execute_result"
    }
   ],
   "source": [
    "shuttle_community_model.reset_model()\n",
    "shuttle_community_model.set_medium(COOPM)\n",
    "shuttle_community_model.weights = [10,1]\n",
    "shuttle_community_model.optimize()\n",
    "shuttle_community_model.x1[shuttle_community_model.obj1]\n",
    "shuttle_community_model.x2[shuttle_community_model.obj2]"
   ]
  },
  {
   "cell_type": "code",
   "execution_count": 50,
   "metadata": {},
   "outputs": [
    {
     "name": "stdout",
     "output_type": "stream",
     "text": [
      "MBR Weights 1:1:  2.8118381038273763\n",
      "SA growth:  0.2556216458024894\n",
      "DP growth:  0.2556216458024887\n"
     ]
    }
   ],
   "source": [
    "print(\"MBR Weights 1:1: \", shuttle_community_model.optimize())\n",
    "print(\"SA growth: \", shuttle_community_model.x2[shuttle_community_model.obj2].x)\n",
    "print(\"DP growth: \", shuttle_community_model.x1[shuttle_community_model.obj1].x)"
   ]
  },
  {
   "cell_type": "markdown",
   "metadata": {},
   "source": [
    "# COMPM 10:1"
   ]
  },
  {
   "cell_type": "code",
   "execution_count": 58,
   "metadata": {},
   "outputs": [
    {
     "data": {
      "text/plain": [
       "<mip.entities.Var at 0x7f96e015eaf0>"
      ]
     },
     "execution_count": 58,
     "metadata": {},
     "output_type": "execute_result"
    }
   ],
   "source": [
    "shuttle_community_model.reset_model()\n",
    "shuttle_community_model.set_medium(compm)\n",
    "shuttle_community_model.weights = [10,1]\n",
    "shuttle_community_model.set_medium(compm)\n",
    "shuttle_community_model.optimize()\n",
    "shuttle_community_model.x1[shuttle_community_model.obj1]\n",
    "shuttle_community_model.x2[shuttle_community_model.obj2]"
   ]
  },
  {
   "cell_type": "code",
   "execution_count": 59,
   "metadata": {},
   "outputs": [
    {
     "name": "stdout",
     "output_type": "stream",
     "text": [
      "MBR Weights 1:1:  2.905058488510848\n",
      "SA growth:  2.170373335065145\n",
      "DP growth:  0.07346851534457029\n"
     ]
    }
   ],
   "source": [
    "print(\"MBR Weights 1:1: \", shuttle_community_model.optimize())\n",
    "print(\"SA growth: \", shuttle_community_model.x2[shuttle_community_model.obj2].x)\n",
    "print(\"DP growth: \", shuttle_community_model.x1[shuttle_community_model.obj1].x)\n",
    "    "
   ]
  },
  {
   "cell_type": "markdown",
   "metadata": {},
   "source": [
    "# COOPM 10:1"
   ]
  },
  {
   "cell_type": "code",
   "execution_count": 66,
   "metadata": {},
   "outputs": [],
   "source": [
    "shuttle_community_model.reset_model()\n",
    "shuttle_community_model.weights = [10,1]\n",
    "shuttle_community_model.set_medium(compm)\n",
    "COOPM = shuttle_community_model.compute_coopm(enforce_survival=True)"
   ]
  },
  {
   "cell_type": "code",
   "execution_count": 67,
   "metadata": {},
   "outputs": [],
   "source": [
    "shuttle_community_model.reset_model()\n",
    "shuttle_community_model.set_medium(COOPM)\n",
    "shuttle_community_model.weights = [10,1]\n",
    "shuttle_community_model.optimize()\n",
    "growths_DP.append(shuttle_community_model.x1[shuttle_community_model.obj1])\n",
    "growths_SA.append(shuttle_community_model.x2[shuttle_community_model.obj2])"
   ]
  },
  {
   "cell_type": "code",
   "execution_count": 68,
   "metadata": {},
   "outputs": [
    {
     "name": "stdout",
     "output_type": "stream",
     "text": [
      "MBR Weights 1:1:  0.581011697702156\n",
      "SA growth:  0.2905058488509988\n",
      "DP growth:  0.029050584885115718\n"
     ]
    }
   ],
   "source": [
    "print(\"MBR Weights 1:1: \", shuttle_community_model.optimize())\n",
    "print(\"SA growth: \", shuttle_community_model.x2[shuttle_community_model.obj2].x)\n",
    "print(\"DP growth: \", shuttle_community_model.x1[shuttle_community_model.obj1].x)"
   ]
  },
  {
   "cell_type": "markdown",
   "metadata": {},
   "source": [
    "# COOPM 1:1"
   ]
  },
  {
   "cell_type": "code",
   "execution_count": 69,
   "metadata": {},
   "outputs": [],
   "source": [
    "shuttle_community_model.reset_model()\n",
    "shuttle_community_model.set_medium(COOPM)\n",
    "shuttle_community_model.weights = [1,1]\n",
    "shuttle_community_model.optimize()\n",
    "growths_DP.append(shuttle_community_model.x1[shuttle_community_model.obj1])\n",
    "growths_SA.append(shuttle_community_model.x2[shuttle_community_model.obj2])"
   ]
  },
  {
   "cell_type": "code",
   "execution_count": 70,
   "metadata": {},
   "outputs": [
    {
     "name": "stdout",
     "output_type": "stream",
     "text": [
      "MBR Weights 1:1:  0.3195564337361145\n",
      "SA growth:  0.2905058488509988\n",
      "DP growth:  0.029050584885115718\n"
     ]
    }
   ],
   "source": [
    "print(\"MBR Weights 1:1: \", shuttle_community_model.optimize())\n",
    "print(\"SA growth: \", shuttle_community_model.x2[shuttle_community_model.obj2].x)\n",
    "print(\"DP growth: \", shuttle_community_model.x1[shuttle_community_model.obj1].x)"
   ]
  }
 ],
 "metadata": {
  "interpreter": {
   "hash": "12dc29294301b76d7961fc9a20d6409e84490a3af29fdd65fcbf33ee51692f0a"
  },
  "kernelspec": {
   "display_name": "Python 3",
   "language": "python",
   "name": "python3"
  },
  "language_info": {
   "codemirror_mode": {
    "name": "ipython",
    "version": 3
   },
   "file_extension": ".py",
   "mimetype": "text/x-python",
   "name": "python",
   "nbconvert_exporter": "python",
   "pygments_lexer": "ipython3",
   "version": "3.8.5"
  },
  "metadata": {
   "interpreter": {
    "hash": "a8f61be024eba58adef938c9aa1e29e02cb3dece83a5348b1a2dafd16a070453"
   }
  }
 },
 "nbformat": 4,
 "nbformat_minor": 2
}
