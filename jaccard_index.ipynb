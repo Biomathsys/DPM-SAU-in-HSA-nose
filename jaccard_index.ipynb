{
 "metadata": {
  "language_info": {
   "codemirror_mode": {
    "name": "ipython",
    "version": 3
   },
   "file_extension": ".py",
   "mimetype": "text/x-python",
   "name": "python",
   "nbconvert_exporter": "python",
   "pygments_lexer": "ipython3",
   "version": "3.7.6-final"
  },
  "orig_nbformat": 2,
  "kernelspec": {
   "name": "python3",
   "display_name": "Python 3",
   "language": "python"
  }
 },
 "nbformat": 4,
 "nbformat_minor": 2,
 "cells": [
  {
   "cell_type": "code",
   "execution_count": 11,
   "metadata": {},
   "outputs": [],
   "source": [
    "import cobra\n",
    "import pandas as pd"
   ]
  },
  {
   "cell_type": "code",
   "execution_count": 12,
   "metadata": {
    "tags": []
   },
   "outputs": [
    {
     "output_type": "stream",
     "name": "stdout",
     "text": [
      "Gorwth:  0.28236539253224924\nGorwth:  2.558694612613397\n"
     ]
    }
   ],
   "source": [
    "model_DP = cobra.io.read_sbml_model(\"models/consistent_DP_SNM.xml\")\n",
    "model_SA = cobra.io.read_sbml_model(\"models/consistent_iYS854_SNM.xml\")\n",
    "print(\"Gorwth: \", model_DP.slim_optimize())\n",
    "print(\"Gorwth: \", model_SA.slim_optimize())"
   ]
  },
  {
   "source": [
    "## 1) Common and uncommon metabolits"
   ],
   "cell_type": "markdown",
   "metadata": {}
  },
  {
   "cell_type": "code",
   "execution_count": 13,
   "metadata": {
    "tags": []
   },
   "outputs": [
    {
     "output_type": "stream",
     "name": "stdout",
     "text": [
      "The number of common metabolites is:  377\nThe number of non common metabolites is:  970\nThe total numebr of unique metabolites is:  1347\n"
     ]
    }
   ],
   "source": [
    "met_DP_ids = set(map(lambda x:x.id, model_DP.metabolites))\n",
    "met_SA_ids = set(map(lambda x:x.id, model_SA.metabolites))\n",
    "met_ids = set(met_DP_ids)\n",
    "met_ids = met_ids.union(set(met_SA_ids))\n",
    "common_met_ids = met_DP_ids.intersection(met_SA_ids)\n",
    "non_common_met_ids = met_ids.difference(common_met_ids)\n",
    "print(\"The number of common metabolites is: \", len(common_met_ids))\n",
    "print(\"The number of non common metabolites is: \", len(non_common_met_ids))\n",
    "print(\"The total numebr of unique metabolites is: \", len(met_ids))"
   ]
  },
  {
   "cell_type": "code",
   "execution_count": 14,
   "metadata": {
    "tags": []
   },
   "outputs": [
    {
     "output_type": "execute_result",
     "data": {
      "text/plain": [
       "         ID                       NAME        FORMULA COMPARTMENT\n",
       "0  10fthf_c  10-Formyltetrahydrofolate     C20H21N7O7           c\n",
       "1     adp_c                        ADP  C10H12N5O10P2           c\n",
       "2     atp_c                        ATP  C10H12N5O13P3           c\n",
       "3  glu__L_c                L-Glutamate        C5H8NO4           c\n",
       "4      pi_c                  Phosphate           HO4P           c"
      ],
      "text/html": "<div>\n<style scoped>\n    .dataframe tbody tr th:only-of-type {\n        vertical-align: middle;\n    }\n\n    .dataframe tbody tr th {\n        vertical-align: top;\n    }\n\n    .dataframe thead th {\n        text-align: right;\n    }\n</style>\n<table border=\"1\" class=\"dataframe\">\n  <thead>\n    <tr style=\"text-align: right;\">\n      <th></th>\n      <th>ID</th>\n      <th>NAME</th>\n      <th>FORMULA</th>\n      <th>COMPARTMENT</th>\n    </tr>\n  </thead>\n  <tbody>\n    <tr>\n      <th>0</th>\n      <td>10fthf_c</td>\n      <td>10-Formyltetrahydrofolate</td>\n      <td>C20H21N7O7</td>\n      <td>c</td>\n    </tr>\n    <tr>\n      <th>1</th>\n      <td>adp_c</td>\n      <td>ADP</td>\n      <td>C10H12N5O10P2</td>\n      <td>c</td>\n    </tr>\n    <tr>\n      <th>2</th>\n      <td>atp_c</td>\n      <td>ATP</td>\n      <td>C10H12N5O13P3</td>\n      <td>c</td>\n    </tr>\n    <tr>\n      <th>3</th>\n      <td>glu__L_c</td>\n      <td>L-Glutamate</td>\n      <td>C5H8NO4</td>\n      <td>c</td>\n    </tr>\n    <tr>\n      <th>4</th>\n      <td>pi_c</td>\n      <td>Phosphate</td>\n      <td>HO4P</td>\n      <td>c</td>\n    </tr>\n  </tbody>\n</table>\n</div>"
     },
     "metadata": {},
     "execution_count": 14
    }
   ],
   "source": [
    "common_metabolits = [met for met in model_DP.metabolites if met.id in met_SA_ids]\n",
    "# Check for correctness\n",
    "assert len(common_metabolits) == len(common_met_ids)\n",
    "# Write csv\n",
    "df_dict = {\"ID\":[], \"NAME\":[], \"FORMULA\":[], \"COMPARTMENT\":[]}\n",
    "for met in common_metabolits:\n",
    "    df_dict[\"ID\"].append(met.id)\n",
    "    df_dict[\"NAME\"].append(met.name)\n",
    "    df_dict[\"FORMULA\"].append(met.formula)\n",
    "    df_dict[\"COMPARTMENT\"].append(met.compartment)\n",
    "df_common_met = pd.DataFrame(df_dict)\n",
    "df_common_met.to_csv(\"common_metabolistes.csv\", sep=\";\")\n",
    "df_common_met.head()"
   ]
  },
  {
   "cell_type": "code",
   "execution_count": 15,
   "metadata": {},
   "outputs": [
    {
     "output_type": "execute_result",
     "data": {
      "text/plain": [
       "             ID                             NAME            FORMULA  \\\n",
       "0   cdpdtdecg_c  CDP-1,2-ditetradecanoylglycerol      C40H71N3O15P2   \n",
       "1  7me3oxoacp_c      7-methyl-3-oxo-octanoyl-ACP      C20H35N2O9PRS   \n",
       "2  ptdoh_MRSA_c                Phosphatidic acid  C53H102N2O16PR0S0   \n",
       "3   8mtn2eACP_c   8-methyl-trans-non-2-enoyl-ACP      C21H37N2O8PRS   \n",
       "4       5fthf_c         5-Formyltetrahydrofolate         C20H21N7O7   \n",
       "\n",
       "  COMPARTMENT MODEL  \n",
       "0           c    DP  \n",
       "1           c    SA  \n",
       "2           c    SA  \n",
       "3           c    SA  \n",
       "4           c    DP  "
      ],
      "text/html": "<div>\n<style scoped>\n    .dataframe tbody tr th:only-of-type {\n        vertical-align: middle;\n    }\n\n    .dataframe tbody tr th {\n        vertical-align: top;\n    }\n\n    .dataframe thead th {\n        text-align: right;\n    }\n</style>\n<table border=\"1\" class=\"dataframe\">\n  <thead>\n    <tr style=\"text-align: right;\">\n      <th></th>\n      <th>ID</th>\n      <th>NAME</th>\n      <th>FORMULA</th>\n      <th>COMPARTMENT</th>\n      <th>MODEL</th>\n    </tr>\n  </thead>\n  <tbody>\n    <tr>\n      <th>0</th>\n      <td>cdpdtdecg_c</td>\n      <td>CDP-1,2-ditetradecanoylglycerol</td>\n      <td>C40H71N3O15P2</td>\n      <td>c</td>\n      <td>DP</td>\n    </tr>\n    <tr>\n      <th>1</th>\n      <td>7me3oxoacp_c</td>\n      <td>7-methyl-3-oxo-octanoyl-ACP</td>\n      <td>C20H35N2O9PRS</td>\n      <td>c</td>\n      <td>SA</td>\n    </tr>\n    <tr>\n      <th>2</th>\n      <td>ptdoh_MRSA_c</td>\n      <td>Phosphatidic acid</td>\n      <td>C53H102N2O16PR0S0</td>\n      <td>c</td>\n      <td>SA</td>\n    </tr>\n    <tr>\n      <th>3</th>\n      <td>8mtn2eACP_c</td>\n      <td>8-methyl-trans-non-2-enoyl-ACP</td>\n      <td>C21H37N2O8PRS</td>\n      <td>c</td>\n      <td>SA</td>\n    </tr>\n    <tr>\n      <th>4</th>\n      <td>5fthf_c</td>\n      <td>5-Formyltetrahydrofolate</td>\n      <td>C20H21N7O7</td>\n      <td>c</td>\n      <td>DP</td>\n    </tr>\n  </tbody>\n</table>\n</div>"
     },
     "metadata": {},
     "execution_count": 15
    }
   ],
   "source": [
    "uncommon_metabolites = []\n",
    "origin = []\n",
    "for id in non_common_met_ids:\n",
    "    try:\n",
    "        met = model_DP.metabolites.get_by_id(id)\n",
    "        origin.append(\"DP\")\n",
    "    except:\n",
    "        met = model_SA.metabolites.get_by_id(id)\n",
    "        origin.append(\"SA\")\n",
    "    uncommon_metabolites.append(met)\n",
    "# Check\n",
    "assert len(uncommon_metabolites) == len(non_common_met_ids)\n",
    "\n",
    "# Write csv\n",
    "df_dict = {\"ID\":[], \"NAME\":[], \"FORMULA\":[], \"COMPARTMENT\":[], \"MODEL\":[]}\n",
    "for met, org in zip(uncommon_metabolites, origin):\n",
    "    df_dict[\"ID\"].append(met.id)\n",
    "    df_dict[\"NAME\"].append(met.name)\n",
    "    df_dict[\"FORMULA\"].append(met.formula)\n",
    "    df_dict[\"COMPARTMENT\"].append(met.compartment)\n",
    "    df_dict[\"MODEL\"].append(org)\n",
    "df_common_met = pd.DataFrame(df_dict)\n",
    "df_common_met.to_csv(\"uncommon_metabolistes.csv\", sep=\";\")\n",
    "df_common_met.head()"
   ]
  },
  {
   "source": [
    "## 2) Common and uncommon reactions"
   ],
   "cell_type": "markdown",
   "metadata": {
    "tags": []
   }
  },
  {
   "cell_type": "code",
   "execution_count": 16,
   "metadata": {
    "tags": []
   },
   "outputs": [
    {
     "output_type": "stream",
     "name": "stdout",
     "text": [
      "The number of common reactions is:  273\nThe number of non common reactions is:  1535\nThe total numebr of unique reactions is:  1808\n"
     ]
    }
   ],
   "source": [
    "rec_DP_ids = set(map(lambda x:x.id, model_DP.reactions))\n",
    "rec_SA_ids = set(map(lambda x:x.id, model_SA.reactions))\n",
    "rec_ids = set(rec_DP_ids)\n",
    "rec_ids = rec_ids.union(set(rec_SA_ids))\n",
    "common_rec_ids = rec_DP_ids.intersection(rec_SA_ids)\n",
    "non_common_rec_ids = rec_ids.difference(common_rec_ids)\n",
    "print(\"The number of common reactions is: \", len(common_rec_ids))\n",
    "print(\"The number of non common reactions is: \", len(non_common_rec_ids))\n",
    "print(\"The total numebr of unique reactions is: \", len(rec_ids))"
   ]
  },
  {
   "cell_type": "code",
   "execution_count": 17,
   "metadata": {},
   "outputs": [],
   "source": [
    "common_reactions = [rec for rec in model_DP.reactions if rec.id in rec_SA_ids]\n",
    "# Check for correctness\n",
    "assert len(common_reactions) == len(common_rec_ids)\n",
    "# Write csv\n",
    "df_dict = {\"ID\":[], \"NAME\":[], \"REACTION\":[], \"LOWER_BOUND\":[], \"UPPER_BOUND\":[]}\n",
    "for rec in common_reactions:\n",
    "    df_dict[\"ID\"].append(rec.id)\n",
    "    df_dict[\"NAME\"].append(rec.name)\n",
    "    df_dict[\"REACTION\"].append(rec.reaction)\n",
    "    df_dict[\"LOWER_BOUND\"].append(rec.lower_bound)\n",
    "    df_dict[\"UPPER_BOUND\"].append(rec.upper_bound)\n",
    "\n",
    "def highlight_col(x):\n",
    "    #copy df to new - original data are not changed\n",
    "    df = x.copy()\n",
    "    #mark exchange reactions by yellow color\n",
    "    mask = x[\"ID\"].str.contains(\"EX_\")\n",
    "    df.loc[mask, :] = 'background-color: yellow'\n",
    "    df.loc[~mask,:] = 'background-color: white'\n",
    "    return df   \n",
    "\n",
    "writer = pd.ExcelWriter('common_reactions.xlsx')\n",
    "df_common_rec = pd.DataFrame(df_dict)\n",
    "df_common_rec.style.apply(highlight_col, axis=None).to_excel(writer)\n",
    "writer.save()\n",
    "writer.close()"
   ]
  },
  {
   "cell_type": "code",
   "execution_count": 18,
   "metadata": {
    "tags": []
   },
   "outputs": [],
   "source": [
    "uncommon_reactions = []\n",
    "origin = []\n",
    "for id in non_common_rec_ids:\n",
    "    try:\n",
    "        rec = model_DP.reactions.get_by_id(id)\n",
    "        origin.append(\"DP\")\n",
    "    except:\n",
    "        rec = model_SA.reactions.get_by_id(id)\n",
    "        origin.append(\"SA\")\n",
    "    uncommon_reactions.append(rec)\n",
    "# Check\n",
    "assert len(uncommon_reactions) == len(non_common_rec_ids)\n",
    "\n",
    "# Write csv\n",
    "df_dict = {\"ID\":[], \"NAME\":[], \"REACTION\":[], \"LOWER_BOUND\":[], \"UPPER_BOUND\":[]}\n",
    "for rec in uncommon_reactions:\n",
    "    df_dict[\"ID\"].append(rec.id)\n",
    "    df_dict[\"NAME\"].append(rec.name)\n",
    "    df_dict[\"REACTION\"].append(rec.reaction)\n",
    "    df_dict[\"LOWER_BOUND\"].append(rec.lower_bound)\n",
    "    df_dict[\"UPPER_BOUND\"].append(rec.upper_bound)\n",
    "\n",
    "writer = pd.ExcelWriter('uncommon_reactions.xlsx')\n",
    "df_uncommon_rec = pd.DataFrame(df_dict)\n",
    "df_uncommon_rec.style.apply(highlight_col, axis=None).to_excel(writer)\n",
    "writer.save()\n",
    "writer.close()"
   ]
  },
  {
   "source": [
    "## 3) Jaccard index"
   ],
   "cell_type": "markdown",
   "metadata": {}
  },
  {
   "source": [
    "We compute the jaccard index for both species as following:\n",
    "$$ J(A,B) = \\frac{|A \\cap B|}{|A \\cup B|}$$\n",
    "Were A,B are the set of metabolites/reactions in the model. Thus the Jaccard index can in this case also be written as:\n",
    "$$ J(M_1,M_2) = \\frac{\\text{Common metabolites/reactions in } M_1,M_2}{\\text{All metabolites/reactions in both models } M_1,M_2}$$\n",
    "These number we compute before thus we can easily compute it as:"
   ],
   "cell_type": "markdown",
   "metadata": {}
  },
  {
   "cell_type": "code",
   "execution_count": 19,
   "metadata": {
    "tags": []
   },
   "outputs": [
    {
     "output_type": "execute_result",
     "data": {
      "text/plain": [
       "0.2798812175204157"
      ]
     },
     "metadata": {},
     "execution_count": 19
    }
   ],
   "source": [
    "jaccard_index_met = len(common_met_ids)/len(met_ids)\n",
    "jaccard_index_met"
   ]
  },
  {
   "cell_type": "code",
   "execution_count": 20,
   "metadata": {},
   "outputs": [
    {
     "output_type": "execute_result",
     "data": {
      "text/plain": [
       "0.15099557522123894"
      ]
     },
     "metadata": {},
     "execution_count": 20
    }
   ],
   "source": [
    "jaccard_index_rec = len(common_rec_ids)/len(rec_ids)\n",
    "jaccard_index_rec"
   ]
  }
 ]
}