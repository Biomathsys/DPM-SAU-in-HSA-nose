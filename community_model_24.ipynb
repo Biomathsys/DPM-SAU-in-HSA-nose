{
 "cells": [
  {
   "cell_type": "code",
   "execution_count": 1,
   "metadata": {},
   "outputs": [],
   "source": [
    "import pandas as pd\n",
    "import cobra\n",
    "import numpy as np\n",
    "import matplotlib.pyplot as plt\n",
    "\n",
    "from scipy.optimize import linprog\n",
    "import scipy\n",
    "import mip\n",
    "from copy import deepcopy\n",
    "\n",
    "def save_dict(data, name):\n",
    "    with open(name, 'w' ) as file:\n",
    "        json.dump( data, file )"
   ]
  },
  {
   "cell_type": "markdown",
   "metadata": {},
   "source": [
    "# Community modeling\n",
    "\n",
    "In this notebook we will implement a method to create community models of two or more species specific metabolic models using cobrapy."
   ]
  },
  {
   "cell_type": "code",
   "execution_count": 2,
   "metadata": {},
   "outputs": [
    {
     "name": "stdout",
     "output_type": "stream",
     "text": [
      "Growth:  0.2823653925322476\n",
      "Growth:  2.558694612613393\n"
     ]
    }
   ],
   "source": [
    "model_DP = cobra.io.read_sbml_model(\"models/consistent_DP_SNM.xml\")\n",
    "model_SA = cobra.io.read_sbml_model(\"models/consistent_iYS854_SNM.xml\")\n",
    "print(\"Growth: \", model_DP.slim_optimize())\n",
    "print(\"Growth: \", model_SA.slim_optimize())"
   ]
  },
  {
   "cell_type": "code",
   "execution_count": 3,
   "metadata": {},
   "outputs": [],
   "source": [
    "for rec in model_SA.reactions:\n",
    "    rec.lower_bound = max(rec.lower_bound, -1000)\n",
    "    rec.upper_bound = min(rec.upper_bound, 1000)"
   ]
  },
  {
   "cell_type": "code",
   "execution_count": 4,
   "metadata": {},
   "outputs": [
    {
     "data": {
      "text/html": [
       "<div>\n",
       "<style scoped>\n",
       "    .dataframe tbody tr th:only-of-type {\n",
       "        vertical-align: middle;\n",
       "    }\n",
       "\n",
       "    .dataframe tbody tr th {\n",
       "        vertical-align: top;\n",
       "    }\n",
       "\n",
       "    .dataframe thead th {\n",
       "        text-align: right;\n",
       "    }\n",
       "</style>\n",
       "<table border=\"1\" class=\"dataframe\">\n",
       "  <thead>\n",
       "    <tr style=\"text-align: right;\">\n",
       "      <th></th>\n",
       "      <th>Compound</th>\n",
       "      <th>BiGG</th>\n",
       "      <th>ModelSeed</th>\n",
       "      <th>KEGG</th>\n",
       "    </tr>\n",
       "  </thead>\n",
       "  <tbody>\n",
       "    <tr>\n",
       "      <th>0</th>\n",
       "      <td>Alanine</td>\n",
       "      <td>ala__L</td>\n",
       "      <td>cpd00035</td>\n",
       "      <td>C00041</td>\n",
       "    </tr>\n",
       "    <tr>\n",
       "      <th>1</th>\n",
       "      <td>Arginine</td>\n",
       "      <td>arg__L</td>\n",
       "      <td>cpd00051</td>\n",
       "      <td>C00062</td>\n",
       "    </tr>\n",
       "    <tr>\n",
       "      <th>2</th>\n",
       "      <td>Cysteine</td>\n",
       "      <td>cys__L</td>\n",
       "      <td>cpd00084</td>\n",
       "      <td>C00097</td>\n",
       "    </tr>\n",
       "    <tr>\n",
       "      <th>3</th>\n",
       "      <td>Glutamic acid</td>\n",
       "      <td>glu__L</td>\n",
       "      <td>cpd00023</td>\n",
       "      <td>C00025</td>\n",
       "    </tr>\n",
       "    <tr>\n",
       "      <th>4</th>\n",
       "      <td>Glycine</td>\n",
       "      <td>gly</td>\n",
       "      <td>cpd00033</td>\n",
       "      <td>C00037</td>\n",
       "    </tr>\n",
       "  </tbody>\n",
       "</table>\n",
       "</div>"
      ],
      "text/plain": [
       "        Compound    BiGG ModelSeed    KEGG\n",
       "0        Alanine  ala__L  cpd00035  C00041\n",
       "1       Arginine  arg__L  cpd00051  C00062\n",
       "2       Cysteine  cys__L  cpd00084  C00097\n",
       "3  Glutamic acid  glu__L  cpd00023  C00025\n",
       "4        Glycine     gly  cpd00033  C00037"
      ]
     },
     "execution_count": 4,
     "metadata": {},
     "output_type": "execute_result"
    }
   ],
   "source": [
    "snm3 = pd.read_csv(\"SNM3.csv\", sep =\";\")\n",
    "snm3.head()"
   ]
  },
  {
   "cell_type": "code",
   "execution_count": 5,
   "metadata": {},
   "outputs": [],
   "source": [
    "BIOMASS_DP = \"Growth\" \n",
    "BIOMASS_SA = \"BIOMASS_iYS_wild_type\"\n",
    "models = [model_DP.copy(), model_SA.copy()]"
   ]
  },
  {
   "cell_type": "markdown",
   "metadata": {},
   "source": [
    "The following metabolites have been previously added to obtain growth on the medium: EX_ile__L_e, EX_met__L_e and EX_26dap__M_e for DP. In the community this may is not necessary as the metabolites could be produced from e.g. SA.\n",
    "\n",
    "**PROBLEM:** SA does not have EX_26dap__M_e and hence cannot produce it for DP....\n",
    "\n",
    "Thus we cannot drop EX_26dap__M_e from the medium otherwise DP could not grow..."
   ]
  },
  {
   "cell_type": "code",
   "execution_count": 6,
   "metadata": {},
   "outputs": [
    {
     "name": "stdout",
     "output_type": "stream",
     "text": [
      "EX_met__L_e: met__L_e --> \n",
      "EX_ile__L_e: ile__L_e --> \n"
     ]
    }
   ],
   "source": [
    "print(model_SA.exchanges.EX_met__L_e)\n",
    "print(model_SA.exchanges.EX_ile__L_e)\n",
    "#print(model_SA.exchanges.EX_26dap__M_e)"
   ]
  },
  {
   "cell_type": "code",
   "execution_count": 7,
   "metadata": {},
   "outputs": [
    {
     "name": "stdout",
     "output_type": "stream",
     "text": [
      "10.0\n"
     ]
    }
   ],
   "source": [
    "# Can produces met\n",
    "with model_SA as model: \n",
    "    model.objective = model.exchanges.EX_met__L_e\n",
    "    print(model.slim_optimize())"
   ]
  },
  {
   "cell_type": "code",
   "execution_count": 8,
   "metadata": {},
   "outputs": [
    {
     "name": "stdout",
     "output_type": "stream",
     "text": [
      "21.40625\n"
     ]
    }
   ],
   "source": [
    "# Can produces ile\n",
    "with model_SA as model: \n",
    "    model.objective = model.exchanges.EX_ile__L_e\n",
    "    print(model.slim_optimize())"
   ]
  },
  {
   "cell_type": "code",
   "execution_count": 9,
   "metadata": {},
   "outputs": [
    {
     "data": {
      "text/plain": [
       "{'c': 'cytosol', 'w': 'wildtype staph aureus', 'e': 'extracellular space'}"
      ]
     },
     "execution_count": 9,
     "metadata": {},
     "output_type": "execute_result"
    }
   ],
   "source": [
    "model_SA.compartments"
   ]
  },
  {
   "cell_type": "markdown",
   "metadata": {},
   "source": [
    "## 1) Constructing of community model explicitely"
   ]
  },
  {
   "cell_type": "markdown",
   "metadata": {},
   "source": [
    "Here we introduce only shuttle reactions for reactions that are common in the uptake/sekretion reactions of the individual models!"
   ]
  },
  {
   "cell_type": "code",
   "execution_count": 10,
   "metadata": {},
   "outputs": [],
   "source": [
    "def create_stoichiometry_matrix(model):\n",
    "    metabolites = model.metabolites \n",
    "    reactions = model.reactions \n",
    "    S = np.zeros((len(metabolites), len(reactions)))\n",
    "    \n",
    "    met_id = dict()\n",
    "    rec_id = dict()\n",
    "    for i,reaction in enumerate(model.reactions):\n",
    "        rec_id[reaction.id] = i\n",
    "        for metabolite, stoich in reaction.metabolites.items():\n",
    "            met_id[metabolite.id] = int(metabolites.index(metabolite))\n",
    "            S[metabolites.index(metabolite), i] = stoich\n",
    "    return S, met_id, rec_id "
   ]
  },
  {
   "cell_type": "code",
   "execution_count": 11,
   "metadata": {},
   "outputs": [],
   "source": [
    "class Model():\n",
    "    def __init__(self, model, biomass_function):\n",
    "        \"\"\" This is a new class of metabolic model, capable of flux balance analysis\n",
    "        Attributes:\n",
    "        models (list): CobraPy models of single organisms which will be used in construction\n",
    "        biomass_reactions (list): List of strings containing the ids for the growth reactions\n",
    "        \"\"\"\n",
    "        self.biomass_function = biomass_function\n",
    "        self.model = model\n",
    "        self.id = model.id\n",
    "        # Compute stoichimetry_matrix\n",
    "        S, met_id, rec_id = create_stoichiometry_matrix(model)\n",
    "        self.num_reactions = S.shape[1]\n",
    "        self.num_metabolites = S.shape[0]\n",
    "        self.stoichiometry_matrix = scipy.sparse.csr_matrix(S)\n",
    "        self.met_id = met_id\n",
    "        self.rec_id = rec_id \n",
    "        # Set objective\n",
    "        idx = self.rec_id[biomass_function]\n",
    "        c = np.zeros(self.num_reactions)\n",
    "        c[idx] = 1\n",
    "        self.objective_c = c\n",
    "        # Set bounds\n",
    "        self._reset_bounds()\n",
    "    \n",
    "    @property\n",
    "    def reactions(self):\n",
    "        return self.model.reactions\n",
    "    @property\n",
    "    def exchanges(self):\n",
    "        return self.model.exchanges\n",
    "    @property\n",
    "    def metabolites(self):\n",
    "        return self.model.metabolites\n",
    "    @property\n",
    "    def medium(self):\n",
    "        return self.model.medium\n",
    "\n",
    "    def set_medium(self, medium):\n",
    "        ex_ids = [ex.id for ex in self.exchanges]\n",
    "        new_med = {}\n",
    "        for key,val in medium.items():\n",
    "            if key in ex_ids:\n",
    "                new_med[key] = val\n",
    "        self.model.medium = new_med\n",
    "        self._reset_bounds()\n",
    "        \n",
    "    def optimize(self, disp=False):\n",
    "        sol = linprog(-self.objective_c, A_eq=self.stoichiometry_matrix, b_eq=np.zeros(self.num_metabolites), bounds=self.bounds, method=\"highs\", options={\"disp\":disp})\n",
    "        sol[\"fun\"] = -sol[\"fun\"] # As we have to minimize\n",
    "        return sol \n",
    "    \n",
    "    def slim_optimize(self, disp=False):\n",
    "        sol = self.optimize(disp=disp)\n",
    "        return sol[\"fun\"]\n",
    "\n",
    "    def summary(self):\n",
    "        sol = self.optimize()\n",
    "        flux = sol[\"x\"]\n",
    "        ex_ids = [ex.id for ex in self.exchanges]\n",
    "        fluxes = []\n",
    "        for ex in ex_ids:\n",
    "            idx = self.rec_id[ex]\n",
    "            fluxes.append(flux[idx])\n",
    "        summary_df = pd.DataFrame({\"Exchange reaction\": ex_ids, \"Flux\": fluxes})\n",
    "        summary_df.sort_values([\"Flux\"], inplace=True)\n",
    "        return summary_df\n",
    "\n",
    "    def _reset_bounds(self):\n",
    "        self.bounds = []\n",
    "        for rec in self.model.reactions:\n",
    "            self.bounds.append((rec.lower_bound, rec.upper_bound))\n",
    "\n",
    "    def __add__(self, model2):\n",
    "        \"\"\" Adding another model creates a community model \"\"\"\n",
    "        return CommunityModel([self,model2], [1.,1.])\n",
    "    "
   ]
  },
  {
   "cell_type": "code",
   "execution_count": 12,
   "metadata": {},
   "outputs": [],
   "source": [
    "model1 = Model(model_DP, BIOMASS_DP)\n",
    "model2 = Model(model_SA, BIOMASS_SA)"
   ]
  },
  {
   "cell_type": "markdown",
   "metadata": {},
   "source": [
    "$$ \\max \\sum_{i=1}^n \\theta_i \\text{ subject to }$$\n",
    "\n",
    "$$ SV = 0, V_{j,min} \\leq V_j \\leq V_{j, max}, V_{Growth} \\geq MBR/10 , V_{i, COOPM} + V_{i, min}\\theta_i \\geq V_{i,\\min} $$"
   ]
  },
  {
   "cell_type": "code",
   "execution_count": 13,
   "metadata": {},
   "outputs": [],
   "source": [
    "from mip import Model, xsum, maximize, BINARY\n",
    "\n",
    "S1 = model1.stoichiometry_matrix.todense()\n",
    "S1_dict = model1.rec_id \n",
    "bounds1 = model1.bounds \n",
    "obj1 = np.where(model1.objective_c > 0)[0][0]\n",
    "\n",
    "S2 = model2.stoichiometry_matrix.todense()\n",
    "S2_dict = model2.rec_id \n",
    "bounds2 = model2.bounds\n",
    "obj2 = np.where(model2.objective_c > 0)[0][0]"
   ]
  },
  {
   "cell_type": "code",
   "execution_count": 14,
   "metadata": {},
   "outputs": [],
   "source": [
    "snm3_med = dict(list(model_DP.medium.items()) + list(model_SA.medium.items()))"
   ]
  },
  {
   "cell_type": "markdown",
   "metadata": {},
   "source": [
    "We will add following constraints:\n",
    "* All EX_ile__L_e used by DP must be produced by SA.\n",
    "* All EX_met__L_E used by DP must be produced by SA."
   ]
  },
  {
   "cell_type": "code",
   "execution_count": 15,
   "metadata": {},
   "outputs": [],
   "source": [
    "from mip import Model, xsum, maximize, BINARY\n",
    "\n",
    "comm_model = Model(\"COOPM\")\n",
    "\n",
    "# Shuttel reactions\n",
    "x_sh = []\n",
    "id1 = []\n",
    "id2 = []\n",
    "x_sh_dict = {}\n",
    "for key, val in snm3_med.items():\n",
    "    x = comm_model.add_var(lb=-val, ub=1000)\n",
    "    x_sh +=[x]\n",
    "    x_sh_dict[key] = x\n",
    "    if key in S1_dict:\n",
    "        id1 += [S1_dict[key]]\n",
    "    else:\n",
    "        id1 += [None]\n",
    "    if key in S2_dict:\n",
    "        id2 += [S2_dict[key]]\n",
    "    else:\n",
    "        id2 += [None]\n",
    "\n",
    "# Flux first model\n",
    "x1 = []\n",
    "for i, (lb, ub) in enumerate(bounds1): \n",
    "    x1 += [comm_model.add_var(lb = lb, ub=ub)]\n",
    "\n",
    "# Flux second model\n",
    "x2 = []\n",
    "for i, (lb, ub) in enumerate(bounds2): \n",
    "    x2 += [comm_model.add_var(lb = lb, ub=ub)]\n",
    "# Stoichiometry\n",
    "for i in range(S1.shape[0]):\n",
    "    comm_model.add_constr(xsum(S1[i,j]*x1[j] for j in range(S1.shape[1])) == 0)\n",
    "\n",
    "for i in range(S2.shape[0]):\n",
    "    comm_model.add_constr(xsum(S2[i,j]*x2[j] for j in range(S2.shape[1])) == 0)\n",
    "\n",
    "ids_ile = (0,0)\n",
    "ids_met = (0,0)\n",
    "# Shuttel constraints\n",
    "for i,key in enumerate(snm3_med):\n",
    "    if \"EX_ile__L_e\" == key:\n",
    "        idx1 = id1[i]\n",
    "        idx2 = id2[i]\n",
    "        ids_ile = (idx1, idx2)\n",
    "        \n",
    "        # Sa must produce it...\n",
    "        comm_model.add_constr(x1[idx1] + x2[idx2] == 0)\n",
    "    elif \"EX_met__L_e\" == key:\n",
    "        idx1 = id1[i]\n",
    "        idx2 = id2[i]\n",
    "        ids_met = (idx1, idx2)\n",
    "        # Sa must produce it\n",
    "        comm_model.add_constr(x1[idx1] + x2[idx2] == 0)\n",
    "    if id1[i] is not None and id2[i] is not None:\n",
    "        idx1 = id1[i]\n",
    "        idx2 = id2[i]\n",
    "        comm_model.add_constr(-x_sh[i] + x1[idx1] + x2[idx2] == 0)\n",
    "    elif id1[i] is not None:\n",
    "        idx = id1[i]\n",
    "        comm_model.add_constr(-x_sh[i] + x1[idx] == 0)\n",
    "    else:\n",
    "        idx = id2[i]\n",
    "        comm_model.add_constr(-x_sh[i] + x2[idx] == 0)\n",
    "\n"
   ]
  },
  {
   "cell_type": "code",
   "execution_count": 16,
   "metadata": {},
   "outputs": [],
   "source": [
    "def get_exchange_flux(S_dict, x):\n",
    "    dic ={}\n",
    "    for key, val in S_dict.items():\n",
    "        if \"EX_\" in key:\n",
    "            dic[key] = x[val].x\n",
    "    return dic\n",
    "\n",
    "def get_medium(x):\n",
    "    dic = {}\n",
    "    for key, val in x.items():\n",
    "        dic[key] = val.lb\n",
    "    return dic"
   ]
  },
  {
   "cell_type": "markdown",
   "metadata": {},
   "source": [
    "First looking at the convex combinaiton"
   ]
  },
  {
   "cell_type": "code",
   "execution_count": 17,
   "metadata": {},
   "outputs": [
    {
     "name": "stdout",
     "output_type": "stream",
     "text": [
      "2.5586946126135386\n",
      "0.0\n"
     ]
    }
   ],
   "source": [
    "comm_model.objective = maximize(x1[obj1] + x2[obj2])\n",
    "comm_model.optimize()\n",
    "print(x2[obj2].x)\n",
    "print(x1[obj1].x)"
   ]
  },
  {
   "cell_type": "code",
   "execution_count": 18,
   "metadata": {},
   "outputs": [],
   "source": [
    "alphas = np.linspace(0,1,1000)\n",
    "DP_growth = []\n",
    "SA_growth = []\n",
    "for a in alphas:\n",
    "    comm_model.objective = maximize(a*x1[obj1] + (1-a)*x2[obj2])\n",
    "    comm_model.optimize()\n",
    "    DP_growth.append(x1[obj1].x)\n",
    "    SA_growth.append(x2[obj2].x)"
   ]
  },
  {
   "cell_type": "code",
   "execution_count": 19,
   "metadata": {},
   "outputs": [
    {
     "data": {
      "image/png": "[encoded data removed]",
      "text/plain": [
       "<Figure size 432x288 with 1 Axes>"
      ]
     },
     "metadata": {
      "needs_background": "light"
     },
     "output_type": "display_data"
    }
   ],
   "source": [
    "title_font = {'fontname':'Arial', 'size':'12', 'color':'black', 'weight':'normal'} \n",
    "plt.plot(alphas, SA_growth, 'darkgoldenrod')\n",
    "plt.plot(alphas, DP_growth, 'g')\n",
    "plt.legend([\"$\\it{S.aureus}$\" , \"$\\it{D. pigrum}$\"])\n",
    "plt.xlabel(r'$\\alpha$')\n",
    "plt.ylabel(\"Growth $(\\it{mmol/(gDW⋅h)})$\")\n",
    "plt.savefig(\"DP_noGrowth_SNM.pdf\", bbox_inches='tight', dpi=1000)  \n",
    "plt.show()"
   ]
  },
  {
   "cell_type": "code",
   "execution_count": 103,
   "metadata": {},
   "outputs": [
    {
     "name": "stdout",
     "output_type": "stream",
     "text": [
      "0.11154453877419865\n",
      "2.209050228492479\n",
      "0.05729957905122203\n"
     ]
    }
   ],
   "source": [
    "# SA dominates\n",
    "w1 = 0.78\n",
    "w2 = 0.22\n",
    "\n",
    "comm_model.objective = maximize(w1*x1[obj1] + w2*x2[obj2])\n",
    "comm_model.optimize()\n",
    "print(x1[obj1].x)\n",
    "print(x2[obj2].x)\n",
    "minMBR = (w1*x1[obj1].x + w2*x2[obj2].x)/10\n",
    "print(minMBR)"
   ]
  },
  {
   "cell_type": "code",
   "execution_count": 104,
   "metadata": {},
   "outputs": [
    {
     "name": "stdout",
     "output_type": "stream",
     "text": [
      "0.23964769396777452\n",
      "1.7115657973987406\n",
      "0.04604354094824194\n"
     ]
    }
   ],
   "source": [
    "# SA dominates\n",
    "w1 = 0.85\n",
    "w2 = 0.15\n",
    "\n",
    "comm_model.objective = maximize(w1*x1[obj1] + w2*x2[obj2])\n",
    "comm_model.optimize()\n",
    "print(x1[obj1].x)\n",
    "print(x2[obj2].x)\n",
    "minMBR = (w1*x1[obj1].x + w2*x2[obj2].x)/10\n",
    "print(minMBR)"
   ]
  },
  {
   "cell_type": "code",
   "execution_count": 105,
   "metadata": {},
   "outputs": [
    {
     "data": {
      "text/plain": [
       "0.2823653925321281"
      ]
     },
     "execution_count": 105,
     "metadata": {},
     "output_type": "execute_result"
    }
   ],
   "source": [
    "comm_model.objective = maximize(x1[obj1])\n",
    "comm_model.optimize()\n",
    "x1[obj1].x"
   ]
  },
  {
   "cell_type": "code",
   "execution_count": 106,
   "metadata": {},
   "outputs": [
    {
     "name": "stdout",
     "output_type": "stream",
     "text": [
      "DP flux: -0.07944457706688934\n",
      "SA flux: 0.07944457706688934\n",
      "DP flux: -0.042086109860927944\n",
      "SA flux: 0.042086109860927944\n"
     ]
    }
   ],
   "source": [
    "print(\"DP flux:\", x1[S1_dict[\"EX_ile__L_e\"]].x)\n",
    "print(\"SA flux:\", x2[S2_dict[\"EX_ile__L_e\"]].x)\n",
    "print(\"DP flux:\", x1[S1_dict[\"EX_met__L_e\"]].x)\n",
    "print(\"SA flux:\", x2[S2_dict[\"EX_met__L_e\"]].x)"
   ]
  },
  {
   "cell_type": "code",
   "execution_count": 107,
   "metadata": {},
   "outputs": [
    {
     "name": "stdout",
     "output_type": "stream",
     "text": [
      "EX_glc__D_e -10.0\n",
      "Other exchange EX_glc__D_e 0.0\n",
      "EX_leu__L_e -0.1231968056562889\n",
      "Other exchange EX_leu__L_e 0.0\n",
      "EX_4abz_e -0.0001829367191398964\n",
      "EX_ala__L_e -0.6181950007092877\n",
      "EX_cl_e -0.016592706807376918\n",
      "Other exchange EX_cl_e 0.0\n",
      "EX_pi_e -0.2413552445853983\n",
      "Other exchange EX_pi_e -0.7863189048700191\n",
      "EX_ribflv_e -0.0001219578127203424\n",
      "Other exchange EX_ribflv_e 5.43082061294064e-16\n",
      "EX_gly_e -0.9992216622720426\n",
      "EX_thr__L_e -0.06937020546094937\n",
      "EX_arg__L_e -0.0808837339465763\n",
      "Other exchange EX_arg__L_e 9.399951198262272\n",
      "EX_lys__L_e -0.093836692759916\n",
      "Other exchange EX_lys__L_e -0.3931594524375338\n",
      "EX_k_e -0.015045698519933964\n",
      "Other exchange EX_k_e 0.0\n",
      "EX_pro__L_e -0.060447049979581786\n",
      "EX_ca2_e -0.014677908938618027\n",
      "EX_mg2_e -0.02420330114963725\n",
      "Other exchange EX_mg2_e 0.0\n",
      "EX_mn2_e -0.010707719788919568\n",
      "Other exchange EX_mn2_e 0.0\n",
      "EX_cobalt2_e -0.009981830860057387\n",
      "EX_zn2_e -0.008993582449539567\n",
      "Other exchange EX_zn2_e 0.0\n",
      "EX_cu2_e -0.009257250408238668\n",
      "EX_o2_e -0.12577861281033526\n",
      "Other exchange EX_o2_e -19.87422138718966\n",
      "EX_glu__L_e -0.17144889470804156\n",
      "Other exchange EX_glu__L_e -9.828551105291957\n",
      "EX_fe2_e -0.02106764202495955\n",
      "Other exchange EX_fe2_e 0.0\n",
      "EX_his__L_e -0.025905917626679396\n",
      "Other exchange EX_his__L_e 0.0\n",
      "EX_ile__L_e -0.07944457706688934\n",
      "Other exchange EX_ile__L_e 0.07944457706688934\n",
      "EX_met__L_e -0.042086109860927944\n",
      "Other exchange EX_met__L_e 0.042086109860927944\n",
      "EX_so4_e -0.00612372801112954\n",
      "Other exchange EX_so4_e 0.0\n",
      "EX_trp__L_e -0.015543605265609751\n",
      "Other exchange EX_trp__L_e 0.0\n",
      "EX_val__L_e -0.11721355464321466\n",
      "Other exchange EX_val__L_e -1.235724541969192e-15\n",
      "EX_cys__L_e -0.02654311639784743\n",
      "Other exchange EX_cys__L_e -0.04208610986092931\n",
      "EX_phe__L_e -0.08836773254824194\n",
      "Other exchange EX_phe__L_e 0.0\n",
      "EX_na1_e -0.025587956488557165\n",
      "Other exchange EX_na1_e -1.7173753347440992e-15\n",
      "EX_ni2_e -0.01002261301001363\n",
      "EX_nac_e -0.0033627523152367626\n",
      "Other exchange EX_nac_e -3.89645189668447e-15\n",
      "EX_26dap__M_e -0.02734480105837087\n"
     ]
    }
   ],
   "source": [
    "interchange = {\"DP_flux\":[], \"SA_flux\":[]}\n",
    "index = list()\n",
    "for key, val in get_exchange_flux(S1_dict,x1).items():\n",
    "    other_echange = get_exchange_flux(S2_dict,x2)\n",
    "    if val < 0 and abs(val) > 1e-4:\n",
    "        print(key, val)\n",
    "        index += [key]\n",
    "        if key in other_echange:\n",
    "            print(\"Other exchange\",key, other_echange[key])"
   ]
  },
  {
   "cell_type": "code",
   "execution_count": 108,
   "metadata": {},
   "outputs": [
    {
     "data": {
      "text/plain": [
       "(1055, 335)"
      ]
     },
     "execution_count": 108,
     "metadata": {},
     "output_type": "execute_result"
    }
   ],
   "source": [
    "ids_ile"
   ]
  },
  {
   "cell_type": "code",
   "execution_count": 109,
   "metadata": {},
   "outputs": [],
   "source": [
    "def fix_ile_growth(value):\n",
    "    x1[ids_ile[0]].ub = value + 1e-4\n",
    "    x1[ids_ile[0]].lb = value\n",
    "    comm_model.optimize()\n",
    "    x1[ids_ile[0]].ub = 1000\n",
    "    x1[ids_ile[0]].lb = -10\n",
    "    return x1[obj1].x, x2[obj2].x\n",
    "def fix_met_growth(value):\n",
    "    x1[ids_met[0]].ub = value + 1e-4\n",
    "    x1[ids_met[0]].lb = value\n",
    "    comm_model.optimize() \n",
    "    x1[ids_met[0]].ub = 1000\n",
    "    x1[ids_met[0]].lb = -10\n",
    "    return x1[obj1].x, x2[obj2].x"
   ]
  },
  {
   "cell_type": "code",
   "execution_count": 110,
   "metadata": {},
   "outputs": [
    {
     "name": "stdout",
     "output_type": "stream",
     "text": [
      "OptimizationStatus.OPTIMAL\n",
      "0.23964769396773955\n",
      "1.7115657973986667\n"
     ]
    }
   ],
   "source": [
    "comm_model.objective = maximize(w1*x1[obj1] + w2*x2[obj2])\n",
    "print(comm_model.optimize())\n",
    "print(x1[obj1].x)\n",
    "print(x2[obj2].x)"
   ]
  },
  {
   "cell_type": "code",
   "execution_count": null,
   "metadata": {},
   "outputs": [],
   "source": []
  },
  {
   "cell_type": "code",
   "execution_count": 111,
   "metadata": {},
   "outputs": [
    {
     "name": "stdout",
     "output_type": "stream",
     "text": [
      "DP flux: -0.06742579011403184\n",
      "SA flux: 0.06742579011403184\n",
      "DP flux: -0.03571910525507029\n",
      "SA flux: 0.03571910525507029\n"
     ]
    }
   ],
   "source": [
    "print(\"DP flux:\", x1[ids_ile[0]].x)\n",
    "print(\"SA flux:\", x2[ids_ile[1]].x)\n",
    "print(\"DP flux:\", x1[ids_met[0]].x)\n",
    "print(\"SA flux:\", x2[ids_met[1]].x)"
   ]
  },
  {
   "cell_type": "code",
   "execution_count": 112,
   "metadata": {},
   "outputs": [],
   "source": [
    "flux = np.linspace(-10,0) \n",
    "growths_DP = []\n",
    "growths_SA = []\n",
    "for f in flux:\n",
    "    growth_DP, growth_SA = fix_ile_growth(f)\n",
    "    if growth_DP is None:\n",
    "        growths_DP.append(0)\n",
    "        growths_SA.append(0)\n",
    "    else:\n",
    "        growths_DP.append(growth_DP)\n",
    "        growths_SA.append(growth_SA)"
   ]
  },
  {
   "cell_type": "code",
   "execution_count": 113,
   "metadata": {},
   "outputs": [
    {
     "data": {
      "image/png": "[encoded data removed]",
      "text/plain": [
       "<Figure size 432x288 with 1 Axes>"
      ]
     },
     "metadata": {
      "needs_background": "light"
     },
     "output_type": "display_data"
    }
   ],
   "source": [
    "plt.plot(flux, growths_SA, 'darkgoldenrod')\n",
    "plt.plot(flux, growths_DP, 'g--')\n",
    "plt.legend([\"$\\it{S.aureus}$\" , \"$\\it{D. pigrum}$\"])\n",
    "plt.xlabel(\"$ Isoleucine\\; concentration\\;(\\it{mmol})$\") \n",
    "plt.ylabel(\"Growth $(\\it{mmol/(gDW⋅h)})$\")\n",
    "#plt.title(\"Ile fixed flux growth\")\n",
    "plt.savefig(\"ile_fixed_flux_growth_DP_nogrowth.pdf\")"
   ]
  },
  {
   "cell_type": "code",
   "execution_count": 114,
   "metadata": {},
   "outputs": [],
   "source": [
    "flux = np.linspace(-0.1,0) \n",
    "growths_DP = []\n",
    "growths_SA = []\n",
    "for f in flux:\n",
    "    growth_DP, growth_SA = fix_met_growth(f)\n",
    "    if growth_DP is None:\n",
    "        growths_DP.append(0)\n",
    "        growths_SA.append(0)\n",
    "    else:\n",
    "        growths_DP.append(growth_DP)\n",
    "        growths_SA.append(growth_SA)"
   ]
  },
  {
   "cell_type": "code",
   "execution_count": 115,
   "metadata": {},
   "outputs": [
    {
     "data": {
      "image/png": "[encoded data removed]",
      "text/plain": [
       "<Figure size 432x288 with 1 Axes>"
      ]
     },
     "metadata": {
      "needs_background": "light"
     },
     "output_type": "display_data"
    }
   ],
   "source": [
    "plt.plot(flux, growths_SA, 'darkgoldenrod')\n",
    "plt.plot(flux, growths_DP, 'g--')\n",
    "plt.legend([\"$\\it{S.aureus}$\" , \"$\\it{D. pigrum}$\"])\n",
    "plt.xlabel(\"$Methionine\\; concentration\\;(\\it{mmol})$\") \n",
    "plt.ylabel(\"Growth $(\\it{mmol/(gDW⋅h)})$\")\n",
    "#plt.title(\"Ile fixed flux growth\")\n",
    "plt.savefig(\"met_fixed_flux_growth_DP_nogrowth.pdf\")"
   ]
  },
  {
   "cell_type": "code",
   "execution_count": null,
   "metadata": {},
   "outputs": [],
   "source": []
  }
 ],
 "metadata": {
  "kernelspec": {
   "display_name": "Python 3",
   "language": "python",
   "name": "python3"
  },
  "language_info": {
   "codemirror_mode": {
    "name": "ipython",
    "version": 3
   },
   "file_extension": ".py",
   "mimetype": "text/x-python",
   "name": "python",
   "nbconvert_exporter": "python",
   "pygments_lexer": "ipython3",
   "version": "3.8.5"
  },
  "metadata": {
   "interpreter": {
    "hash": "a8f61be024eba58adef938c9aa1e29e02cb3dece83a5348b1a2dafd16a070453"
   }
  }
 },
 "nbformat": 4,
 "nbformat_minor": 2
}
